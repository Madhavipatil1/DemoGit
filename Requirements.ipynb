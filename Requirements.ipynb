{
 "cells": [
  {
   "cell_type": "code",
   "execution_count": null,
   "id": "cbe65816-5fe7-4fdc-be39-1979f219d91c",
   "metadata": {},
   "outputs": [],
   "source": [
    "# Core libraries for data analysis, visualization, and ML\n",
    "!pip install pandas\n",
    "!pip install numpy\n",
    "!pip install matplotlib\n",
    "!pip install seaborn\n",
    "!pip install scikit-learn\n",
    "!pip install xgboost\n",
    "\n",
    "# Computer vision libraries\n",
    "!pip install opencv-python\n",
    "!pip install opencv-python-headless\n",
    "!pip install opencv-contrib-python\n",
    "!pip install mediapipe\n",
    "\n",
    "# Text processing and NLP\n",
    "!pip install nltk\n",
    "!pip install pyspellchecker\n",
    "!pip install wordcloud\n",
    "\n",
    "# Text-to-speech and translation\n",
    "!pip install gtts\n",
    "!pip install googletrans==4.0.0-rc1\n",
    "!pip install playsound==1.2.2\n",
    "!pip install pyttsx3\n",
    "\n",
    "# Specialized AI libraries\n",
    "!pip install langchain_community\n",
    "!pip install Ollama\n",
    "\n",
    "# OCR libraries\n",
    "!pip install easyocr\n",
    "!pip install imutils\n"
   ]
  }
 ],
 "metadata": {
  "kernelspec": {
   "display_name": "Python 3 (ipykernel)",
   "language": "python",
   "name": "python3"
  },
  "language_info": {
   "codemirror_mode": {
    "name": "ipython",
    "version": 3
   },
   "file_extension": ".py",
   "mimetype": "text/x-python",
   "name": "python",
   "nbconvert_exporter": "python",
   "pygments_lexer": "ipython3",
   "version": "3.11.1"
  }
 },
 "nbformat": 4,
 "nbformat_minor": 5
}
