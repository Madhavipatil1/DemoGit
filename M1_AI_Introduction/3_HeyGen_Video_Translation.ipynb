{
 "cells": [
  {
   "attachments": {},
   "cell_type": "markdown",
   "id": "8f47051b-405d-4af8-8342-48a603527c9b",
   "metadata": {},
   "source": [
    "# HeyGen: AI Video Translation and Customization\n",
    "\n",
    "## Description\n",
    "This assignment focuses on HeyGen, an AI-powered tool for translating and customizing videos in multiple languages. HeyGen utilizes advanced AI technology to analyze the audio and visual content of uploaded videos, enabling real-time translation, lip-syncing, and creative edits. Through this activity, students will explore the application of AI in multimedia projects, including translating videos, enhancing audio quality, and experimenting with various voice styles or languages. This experience will help students understand how AI can streamline video production and make content accessible to diverse audiences.\n",
    "\n",
    "## Tool Link\n",
    "- **HeyGen**: [Access HeyGen here](https://heygen.com)\n",
    "\n",
    "## Use Cases\n",
    "1. **Translate a Video into a Different Language**: \n",
    "   - Upload a video and use the translation feature to automatically convert the audio into a selected language, ensuring synchronized lip movements.\n",
    "\n",
    "2. **Create a Video with an AI Avatar**: \n",
    "   - Utilize the avatar feature to represent the speaker in your video, customizing the script and voice to match your project.\n",
    "\n",
    "3. **Customize the AI Voice for Your Avatar**: \n",
    "   - Select an avatar and modify its voice by choosing different languages and tones, allowing for unique character personalization.\n"
   ]
  },
  {
   "cell_type": "code",
   "execution_count": null,
   "id": "fdf7fc87-0bd6-48a7-8098-74159b4b08c7",
   "metadata": {},
   "outputs": [],
   "source": []
  }
 ],
 "metadata": {
  "kernelspec": {
   "display_name": "Python 3 (ipykernel)",
   "language": "python",
   "name": "python3"
  },
  "language_info": {
   "codemirror_mode": {
    "name": "ipython",
    "version": 3
   },
   "file_extension": ".py",
   "mimetype": "text/x-python",
   "name": "python",
   "nbconvert_exporter": "python",
   "pygments_lexer": "ipython3",
   "version": "3.11.1"
  }
 },
 "nbformat": 4,
 "nbformat_minor": 5
}
