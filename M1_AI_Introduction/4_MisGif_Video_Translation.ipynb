{
 "cells": [
  {
   "attachments": {},
   "cell_type": "markdown",
   "id": "d396c550-c884-4e56-808f-39ba19d01afe",
   "metadata": {},
   "source": [
    "# MisGif: AI-Powered GIF Creation and Customization\n",
    "\n",
    "## Description\n",
    "This assignment introduces MisGif, an AI-enhanced tool that allows users to create and personalize GIFs by adding their own photos or generating GIFs from text prompts. MisGif offers a wide selection of GIF templates across various categories, enabling users to insert their faces into popular GIFs or create entirely new ones based on their ideas. By engaging with this tool, students will gain insights into how AI can be leveraged for image manipulation, customization, and entertainment, making the process of creating fun and personalized content accessible to everyone.\n",
    "\n",
    "## Tool Link\n",
    "- **MisGif**: [Access MisGif here](https://misgif.app)\n",
    "\n",
    "## Use Cases\n",
    "1. **Select a GIF Template and Add Your Face**: \n",
    "   - Choose a GIF template from categories like Avengers or trending options and upload a photo to see your face mapped onto the GIF.\n",
    "\n",
    "2. **Create Your Own GIF from Text Prompt**: \n",
    "   - Generate a GIF by providing a text description, allowing the AI to produce a custom animation based on your input.\n",
    "\n",
    "3. **Share or Download Your Customized GIF**: \n",
    "   - Save your personalized GIF to your device and share it on social media or with classmates.\n"
   ]
  },
  {
   "cell_type": "code",
   "execution_count": null,
   "id": "d5fb1d06-040f-471c-9257-025ea014e0d1",
   "metadata": {},
   "outputs": [],
   "source": []
  }
 ],
 "metadata": {
  "kernelspec": {
   "display_name": "Python 3 (ipykernel)",
   "language": "python",
   "name": "python3"
  },
  "language_info": {
   "codemirror_mode": {
    "name": "ipython",
    "version": 3
   },
   "file_extension": ".py",
   "mimetype": "text/x-python",
   "name": "python",
   "nbconvert_exporter": "python",
   "pygments_lexer": "ipython3",
   "version": "3.11.1"
  }
 },
 "nbformat": 4,
 "nbformat_minor": 5
}
