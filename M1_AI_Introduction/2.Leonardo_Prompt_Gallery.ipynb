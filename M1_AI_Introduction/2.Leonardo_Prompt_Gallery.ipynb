{
 "cells": [
  {
   "attachments": {},
   "cell_type": "markdown",
   "id": "795376bd-b2f5-4258-bac7-2c0892ed929b",
   "metadata": {},
   "source": [
    "# Leonardo.ai Realtime Canvas\n",
    "\n",
    "## Description\n",
    "This assignment focuses on using Leonardo.ai, an AI-powered tool for generating unique artwork. By leveraging advanced AI models, Leonardo.ai helps users create creative designs, characters, and landscapes by analyzing various artistic styles and patterns. Students will learn how AI can enhance the creative process, enabling them to quickly iterate on their designs and explore multiple artistic concepts. Through hands-on experience with this tool, students will understand the synergy between human creativity and AI capabilities, allowing for faster and more innovative design iterations.\n",
    "\n",
    "## Tool Link\n",
    "- **Leonardo.ai Realtime Canvas**: [Access Leonardo.ai here](https://leonardo.ai)\n",
    "\n",
    "## Use Cases\n",
    "1. **Generate an Image by Drawing**: \n",
    "   - Start with a basic sketch and let AI enhance it with textures and colors.\n",
    "   \n",
    "2. **Create Motion or Animation Elements**: \n",
    "   - Add dynamic movement to designs using the “Motion” tool, turning static images into animated GIFs or videos.\n",
    "\n",
    "3. **Generate a Custom Character or Object**: \n",
    "   - Use text prompts to create unique characters or objects, customizing them with different styles and designs.\n"
   ]
  },
  {
   "cell_type": "code",
   "execution_count": null,
   "id": "56ac7b89-89e6-4914-8f56-4a8cc2a302df",
   "metadata": {},
   "outputs": [],
   "source": []
  }
 ],
 "metadata": {
  "kernelspec": {
   "display_name": "Python 3 (ipykernel)",
   "language": "python",
   "name": "python3"
  },
  "language_info": {
   "codemirror_mode": {
    "name": "ipython",
    "version": 3
   },
   "file_extension": ".py",
   "mimetype": "text/x-python",
   "name": "python",
   "nbconvert_exporter": "python",
   "pygments_lexer": "ipython3",
   "version": "3.11.1"
  }
 },
 "nbformat": 4,
 "nbformat_minor": 5
}
