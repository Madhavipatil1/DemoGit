{
 "cells": [
  {
   "attachments": {},
   "cell_type": "markdown",
   "id": "284f8919-aa44-498a-a925-530fd3222e20",
   "metadata": {},
   "source": [
    "# Design Thinking Problems with GenAI Tools for Various Businesses\n",
    "\n",
    "## Description\n",
    "This project helps students learn how to use design thinking skills alongside Generative AI (GenAI) tools to tackle real-world business challenges. By using tools like Gemini, students will engage in creative problem-solving and develop their ability to generate useful content. The project encourages them to think critically about how AI can assist businesses in various areas, such as marketing, content creation, and research. Students will gain hands-on experience in crafting blogs, recipes, and conducting market research, all while understanding the impact of AI on modern business practices.\n",
    "\n",
    "## Tool Link\n",
    "- **Gemini AI**: [Access Gemini AI here](https://gemini.ai)\n",
    "\n",
    "## Use Cases\n",
    "- **Blog Writer**: Create interesting stories or articles.\n",
    "- **Recipe Generator**: Design fun and tasty recipes.\n",
    "- **Market Research**: Understand how businesses analyze data.\n"
   ]
  },
  {
   "cell_type": "markdown",
   "id": "cbdd5ae2-8ff5-4004-a744-0a4be3cd1c57",
   "metadata": {},
   "source": []
  },
  {
   "cell_type": "code",
   "execution_count": null,
   "id": "2f3ad4dc-f873-4591-baa2-f0c0db97e34a",
   "metadata": {},
   "outputs": [],
   "source": []
  }
 ],
 "metadata": {
  "kernelspec": {
   "display_name": "Python 3 (ipykernel)",
   "language": "python",
   "name": "python3"
  },
  "language_info": {
   "codemirror_mode": {
    "name": "ipython",
    "version": 3
   },
   "file_extension": ".py",
   "mimetype": "text/x-python",
   "name": "python",
   "nbconvert_exporter": "python",
   "pygments_lexer": "ipython3",
   "version": "3.11.1"
  }
 },
 "nbformat": 4,
 "nbformat_minor": 5
}
