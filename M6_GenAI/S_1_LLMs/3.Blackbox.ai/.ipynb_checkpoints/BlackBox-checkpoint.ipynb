{
 "cells": [
  {
   "cell_type": "markdown",
   "id": "e6ca0507-a240-49dd-8198-3efba2c89628",
   "metadata": {},
   "source": [
    "# Title: Code Generation with Blackbox.ai\n",
    "\n",
    "**Description**:  \n",
    "Students will use Blackbox.ai to generate websites, apps, and other projects by entering prompts, learning how AI creates code-based outputs without manual coding.\n",
    "\n",
    "**Tool Link**:  \n",
    "[Blackbox.ai](https://www.blackbox.ai/)\n",
    "\n",
    "\n",
    "## Use Cases:\n",
    "\n",
    "1. **Simple Quiz Game**  \n",
    "   *Prompt*: \"Create a quiz game about animals.\"  \n",
    "   - Create a game project, enter the prompt, customize questions, and save.\n",
    "\n",
    "2. **Animated Greeting Card**  \n",
    "   *Prompt*: \"Create a greeting card with falling snow.\"  \n",
    "   - Start an animation project, enter the prompt, adjust the style, and save.\n",
    "\n",
    "3. **Simple Mobile App Layout**  \n",
    "   *Prompt*: \"Create a to-do list app layout.\"  \n",
    "   - Enter prompt, customize the layout, and save or export the app.\n"
   ]
  },
  {
   "cell_type": "code",
   "execution_count": null,
   "id": "a86a60c7-46ef-465d-af8f-6b96a30ec486",
   "metadata": {},
   "outputs": [],
   "source": []
  }
 ],
 "metadata": {
  "kernelspec": {
   "display_name": "Python 3 (ipykernel)",
   "language": "python",
   "name": "python3"
  },
  "language_info": {
   "codemirror_mode": {
    "name": "ipython",
    "version": 3
   },
   "file_extension": ".py",
   "mimetype": "text/x-python",
   "name": "python",
   "nbconvert_exporter": "python",
   "pygments_lexer": "ipython3",
   "version": "3.11.1"
  }
 },
 "nbformat": 4,
 "nbformat_minor": 5
}
