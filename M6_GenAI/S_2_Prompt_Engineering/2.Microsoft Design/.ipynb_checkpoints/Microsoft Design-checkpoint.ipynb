{
 "cells": [
  {
   "cell_type": "markdown",
   "id": "d4d92ae6-75d4-431d-8267-f8373319b719",
   "metadata": {},
   "source": [
    "# Title: Exploring Nature with Generative AI Tools\n",
    "\n",
    "**Description**:  \n",
    "Learn how AI-powered tools can create images and stories. Students will explore Generative AI to simulate creative processes, helping them produce engaging content related to environmental and nature topics.\n",
    "\n",
    "## Tools\n",
    "- **Microsoft Designer**: [Access Microsoft Designer](https://designer.microsoft.com)\n",
    "- **Canva Image Generator**: [Access Canva Image Generator](https://www.canva.com)\n",
    "\n",
    "## Use Cases\n",
    "\n",
    "### Use Case 1: Creating a Wildlife Poster Using Microsoft Designer\n",
    "- **Prompt**: “Create a poster about wildlife conservation in forests.”\n",
    "\n",
    "### Use Case 2: Creating a Travel Brochure Using Microsoft Designer\n",
    "- **Prompt**: “Create a travel brochure showcasing top destinations in Europe.”\n",
    "\n",
    "### Use Case 3: Generating an Image of an Ocean Ecosystem Using Canva Image Generator\n",
    "- **Prompt**: “Coral reefs filled with colorful fish and sea creatures in clear blue water.”\n"
   ]
  },
  {
   "cell_type": "code",
   "execution_count": null,
   "id": "37171ece-61f2-4b46-965a-8e6534afcf28",
   "metadata": {},
   "outputs": [],
   "source": []
  }
 ],
 "metadata": {
  "kernelspec": {
   "display_name": "Python 3 (ipykernel)",
   "language": "python",
   "name": "python3"
  },
  "language_info": {
   "codemirror_mode": {
    "name": "ipython",
    "version": 3
   },
   "file_extension": ".py",
   "mimetype": "text/x-python",
   "name": "python",
   "nbconvert_exporter": "python",
   "pygments_lexer": "ipython3",
   "version": "3.11.1"
  }
 },
 "nbformat": 4,
 "nbformat_minor": 5
}
