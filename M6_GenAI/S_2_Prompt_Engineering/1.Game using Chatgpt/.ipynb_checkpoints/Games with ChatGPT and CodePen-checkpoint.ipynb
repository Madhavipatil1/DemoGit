{
 "cells": [
  {
   "cell_type": "markdown",
   "id": "b78707c9-7e0a-407d-95f9-8b33a9b307fc",
   "metadata": {},
   "source": [
    "# Title: Building and Playing Games with ChatGPT and CodePen\n",
    "\n",
    "**Description**:  \n",
    "Explore how AI-powered tools like ChatGPT can generate code for games. Students will learn to use prompts to create web-based projects, gaining an understanding of programming outputs without writing code themselves.\n",
    "\n",
    "## Tools\n",
    "- **ChatGPT**: [Access ChatGPT](https://chat.openai.com)\n",
    "- **CodePen**: [Access CodePen](https://codepen.io)\n",
    "\n",
    "## Use Cases\n",
    "\n",
    "### Use Case 1: Simple Tic Tac Toe Game\n",
    "- **Prompt**: \"Generate HTML and JavaScript code for a Tic Tac Toe game.\"\n",
    "\n",
    "### Use Case 2: Snake Game\n",
    "- **Prompt**: \"Generate HTML and JavaScript code for a simple Snake game where the snake eats dots to grow and loses if it touches the border.\"\n",
    "\n",
    "### Use Case 3: Animated Greeting Card\n",
    "- **Prompt**: \"Generate code for an animated greeting card with falling snow and a holiday message.\"\n"
   ]
  },
  {
   "cell_type": "code",
   "execution_count": null,
   "id": "ab5eac98-fda8-48a9-a3d6-3efff08d5915",
   "metadata": {},
   "outputs": [],
   "source": []
  }
 ],
 "metadata": {
  "kernelspec": {
   "display_name": "Python 3 (ipykernel)",
   "language": "python",
   "name": "python3"
  },
  "language_info": {
   "codemirror_mode": {
    "name": "ipython",
    "version": 3
   },
   "file_extension": ".py",
   "mimetype": "text/x-python",
   "name": "python",
   "nbconvert_exporter": "python",
   "pygments_lexer": "ipython3",
   "version": "3.11.1"
  }
 },
 "nbformat": 4,
 "nbformat_minor": 5
}
